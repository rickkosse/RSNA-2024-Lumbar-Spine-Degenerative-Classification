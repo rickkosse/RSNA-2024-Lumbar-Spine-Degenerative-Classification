{
 "cells": [
  {
   "cell_type": "code",
   "execution_count": 1,
   "id": "dcd1ed30",
   "metadata": {
    "execution": {
     "iopub.execute_input": "2024-09-25T08:44:58.640585Z",
     "iopub.status.busy": "2024-09-25T08:44:58.640132Z",
     "iopub.status.idle": "2024-09-25T08:44:58.646055Z",
     "shell.execute_reply": "2024-09-25T08:44:58.645313Z"
    },
    "papermill": {
     "duration": 0.024766,
     "end_time": "2024-09-25T08:44:58.647987",
     "exception": false,
     "start_time": "2024-09-25T08:44:58.623221",
     "status": "completed"
    },
    "tags": []
   },
   "outputs": [],
   "source": [
    "\n",
    "# # Laad de CSV-bestanden\n",
    "# data_dir = '/kaggle/input/rsna-2024-lumbar-spine-degenerative-classification'\n",
    "# train_df = pd.read_csv(os.path.join(data_dir, 'train.csv'))\n",
    "# label_coords_df = pd.read_csv(os.path.join(data_dir, 'train_label_coordinates.csv'))\n",
    "# series_desc_df = pd.read_csv(os.path.join(data_dir, 'train_series_descriptions.csv'))\n",
    "\n",
    "# # Combineer de gegevens op basis van study_id en series_id\n",
    "# merged_df = label_coords_df.merge(series_desc_df, on=['study_id', 'series_id'])\n",
    "# merged_df = merged_df.merge(train_df, on='study_id')\n",
    "\n",
    "# # Voeg een kolom toe voor de image path\n",
    "# merged_df['image_path'] = merged_df.apply(lambda row: os.path.join(data_dir, 'train_images', str(row['study_id']), str(row['series_id']), f\"{row['instance_number']}.dcm\"), axis=1)\n",
    "\n",
    "# # Selecteer relevante kolommen voor classificatie (pas deze aan naar je eigen taak)\n",
    "# conditions = [\n",
    "#     'spinal_canal_stenosis_l1_l2', 'spinal_canal_stenosis_l2_l3', 'spinal_canal_stenosis_l3_l4',\n",
    "#     'spinal_canal_stenosis_l4_l5', 'spinal_canal_stenosis_l5_s1',\n",
    "#     'left_neural_foraminal_narrowing_l1_l2', 'left_neural_foraminal_narrowing_l2_l3',\n",
    "#     'left_neural_foraminal_narrowing_l3_l4', 'left_neural_foraminal_narrowing_l4_l5'\n",
    "# ]\n",
    "\n",
    "# # Houd alleen de rijen waar alle condities beschikbaar zijn\n",
    "# merged_df = merged_df.dropna(subset=conditions)"
   ]
  },
  {
   "cell_type": "code",
   "execution_count": 2,
   "id": "569097c5",
   "metadata": {
    "execution": {
     "iopub.execute_input": "2024-09-25T08:44:58.677287Z",
     "iopub.status.busy": "2024-09-25T08:44:58.676961Z",
     "iopub.status.idle": "2024-09-25T08:45:28.219783Z",
     "shell.execute_reply": "2024-09-25T08:45:28.218772Z"
    },
    "papermill": {
     "duration": 29.560141,
     "end_time": "2024-09-25T08:45:28.222324",
     "exception": false,
     "start_time": "2024-09-25T08:44:58.662183",
     "status": "completed"
    },
    "tags": []
   },
   "outputs": [
    {
     "name": "stderr",
     "output_type": "stream",
     "text": [
      "/opt/conda/lib/python3.10/site-packages/albumentations/check_version.py:49: UserWarning: Error fetching version info <urlopen error [Errno -3] Temporary failure in name resolution>\n",
      "  data = fetch_version_info()\n"
     ]
    }
   ],
   "source": [
    "import pandas as pd\n",
    "import os\n",
    "import matplotlib.pyplot as plt\n",
    "import matplotlib.patches as patches\n",
    "import pydicom\n",
    "import numpy as np\n",
    "from PIL import Image, ImageDraw\n",
    "from tqdm import tqdm\n",
    "import cv2\n",
    "import glob\n",
    "import warnings\n",
    "import torch\n",
    "import torch.nn as nn\n",
    "import torch.optim as optim\n",
    "from torch.utils.data import DataLoader, Dataset\n",
    "from torchvision import transforms, models\n",
    "import pydicom\n",
    "from pydicom.pixel_data_handlers.util import apply_voi_lut\n",
    "import torchvision.transforms as transforms\n",
    "import torchvision.utils as vutils\n",
    "from sklearn.model_selection import KFold\n",
    "import albumentations as A\n",
    "import timm\n",
    "import re"
   ]
  },
  {
   "cell_type": "code",
   "execution_count": 3,
   "id": "3a304a72",
   "metadata": {
    "execution": {
     "iopub.execute_input": "2024-09-25T08:45:28.252225Z",
     "iopub.status.busy": "2024-09-25T08:45:28.251881Z",
     "iopub.status.idle": "2024-09-25T08:45:28.257125Z",
     "shell.execute_reply": "2024-09-25T08:45:28.256353Z"
    },
    "papermill": {
     "duration": 0.022011,
     "end_time": "2024-09-25T08:45:28.258908",
     "exception": false,
     "start_time": "2024-09-25T08:45:28.236897",
     "status": "completed"
    },
    "tags": []
   },
   "outputs": [],
   "source": [
    "# # List out all of the Studies we have on patients.\n",
    "# part_1 = os.listdir('/kaggle/input/rsna-2024-lumbar-spine-degenerative-classification/train_images')\n",
    "# part_1 = list(filter(lambda x: x.find('.DS') == -1, part_1))\n",
    "\n",
    "\n",
    "# df_meta_f = pd.read_csv('/kaggle/input/rsna-2024-lumbar-spine-degenerative-classification/train_series_descriptions.csv')\n",
    "\n",
    "# p1 = [(x, f\"/kaggle/input/rsna-2024-lumbar-spine-degenerative-classification/train_images/{x}\") for x in part_1]\n",
    "# meta_obj = { p[0]: { 'folder_path': p[1], \n",
    "#                     'SeriesInstanceUIDs': [] \n",
    "#                    } \n",
    "#             for p in p1 }\n",
    "# for m in meta_obj:\n",
    "#     meta_obj[m]['SeriesInstanceUIDs'] = list(\n",
    "#         filter(lambda x: x.find('.DS') == -1, \n",
    "#                os.listdir(meta_obj[m]['folder_path'])\n",
    "#               )\n",
    "#     )\n",
    "\n",
    "\n",
    "# # grabs the correspoding series descriptions\n",
    "# for k in tqdm(meta_obj):\n",
    "#     for s in meta_obj[k]['SeriesInstanceUIDs']:\n",
    "#         if 'SeriesDescriptions' not in meta_obj[k]:\n",
    "#             meta_obj[k]['SeriesDescriptions'] = []\n",
    "#         try:\n",
    "#             meta_obj[k]['SeriesDescriptions'].append(\n",
    "#                 df_meta_f[(df_meta_f['study_id'] == int(k)) & \n",
    "#                 (df_meta_f['series_id'] == int(s))]['series_description'].iloc[0])\n",
    "#         except:\n",
    "#             print(\"Failed on\", s, k)\n",
    "\n",
    "# meta_obj[list(meta_obj.keys())[1]]\n",
    "# patient = train_df.iloc[1]\n",
    "# ptobj = meta_obj[str(patient['study_id'])]"
   ]
  },
  {
   "cell_type": "code",
   "execution_count": 4,
   "id": "b5965f4b",
   "metadata": {
    "execution": {
     "iopub.execute_input": "2024-09-25T08:45:28.288048Z",
     "iopub.status.busy": "2024-09-25T08:45:28.287726Z",
     "iopub.status.idle": "2024-09-25T08:45:28.291579Z",
     "shell.execute_reply": "2024-09-25T08:45:28.290723Z"
    },
    "papermill": {
     "duration": 0.02069,
     "end_time": "2024-09-25T08:45:28.293455",
     "exception": false,
     "start_time": "2024-09-25T08:45:28.272765",
     "status": "completed"
    },
    "tags": []
   },
   "outputs": [],
   "source": [
    "# meta_obj[list(meta_obj.keys())[1]]"
   ]
  },
  {
   "cell_type": "code",
   "execution_count": 5,
   "id": "ccb45f7e",
   "metadata": {
    "execution": {
     "iopub.execute_input": "2024-09-25T08:45:28.323238Z",
     "iopub.status.busy": "2024-09-25T08:45:28.322902Z",
     "iopub.status.idle": "2024-09-25T08:45:28.326927Z",
     "shell.execute_reply": "2024-09-25T08:45:28.326185Z"
    },
    "papermill": {
     "duration": 0.021381,
     "end_time": "2024-09-25T08:45:28.328951",
     "exception": false,
     "start_time": "2024-09-25T08:45:28.307570",
     "status": "completed"
    },
    "tags": []
   },
   "outputs": [],
   "source": [
    "# patient = train_df.iloc[1]"
   ]
  },
  {
   "cell_type": "code",
   "execution_count": 6,
   "id": "07a94a29",
   "metadata": {
    "execution": {
     "iopub.execute_input": "2024-09-25T08:45:28.359241Z",
     "iopub.status.busy": "2024-09-25T08:45:28.358903Z",
     "iopub.status.idle": "2024-09-25T08:45:28.362816Z",
     "shell.execute_reply": "2024-09-25T08:45:28.361960Z"
    },
    "papermill": {
     "duration": 0.021386,
     "end_time": "2024-09-25T08:45:28.364846",
     "exception": false,
     "start_time": "2024-09-25T08:45:28.343460",
     "status": "completed"
    },
    "tags": []
   },
   "outputs": [],
   "source": [
    "# df_coor = pd.read_csv('/kaggle/input/rsna-2024-lumbar-spine-degenerative-classification/train_label_coordinates.csv')"
   ]
  },
  {
   "cell_type": "code",
   "execution_count": 7,
   "id": "c84fb82d",
   "metadata": {
    "execution": {
     "iopub.execute_input": "2024-09-25T08:45:28.394073Z",
     "iopub.status.busy": "2024-09-25T08:45:28.393695Z",
     "iopub.status.idle": "2024-09-25T08:45:28.397625Z",
     "shell.execute_reply": "2024-09-25T08:45:28.396764Z"
    },
    "papermill": {
     "duration": 0.020759,
     "end_time": "2024-09-25T08:45:28.399466",
     "exception": false,
     "start_time": "2024-09-25T08:45:28.378707",
     "status": "completed"
    },
    "tags": []
   },
   "outputs": [],
   "source": [
    "# ptobj = meta_obj[str(patient['study_id'])]"
   ]
  },
  {
   "cell_type": "code",
   "execution_count": 8,
   "id": "e2ba3e64",
   "metadata": {
    "execution": {
     "iopub.execute_input": "2024-09-25T08:45:28.428393Z",
     "iopub.status.busy": "2024-09-25T08:45:28.428071Z",
     "iopub.status.idle": "2024-09-25T08:45:28.432167Z",
     "shell.execute_reply": "2024-09-25T08:45:28.431409Z"
    },
    "papermill": {
     "duration": 0.020792,
     "end_time": "2024-09-25T08:45:28.434018",
     "exception": false,
     "start_time": "2024-09-25T08:45:28.413226",
     "status": "completed"
    },
    "tags": []
   },
   "outputs": [],
   "source": [
    "# im_list_dcm = {}\n",
    "# for idx, i in enumerate(ptobj['SeriesInstanceUIDs']):\n",
    "#     im_list_dcm[i] = {'images': [], 'description': ptobj['SeriesDescriptions'][idx]}\n",
    "#     images = glob.glob(f\"{ptobj['folder_path']}/{ptobj['SeriesInstanceUIDs'][idx]}/*.dcm\")\n",
    "#     for j in sorted(images, key=lambda x: int(x.split('/')[-1].replace('.dcm', ''))):\n",
    "#         im_list_dcm[i]['images'].append({\n",
    "#             'SOPInstanceUID': j.split('/')[-1].replace('.dcm', ''), \n",
    "#             'dicom': pydicom.dcmread(j) })"
   ]
  },
  {
   "cell_type": "code",
   "execution_count": 9,
   "id": "aeab32a7",
   "metadata": {
    "execution": {
     "iopub.execute_input": "2024-09-25T08:45:28.463106Z",
     "iopub.status.busy": "2024-09-25T08:45:28.462766Z",
     "iopub.status.idle": "2024-09-25T08:45:28.469803Z",
     "shell.execute_reply": "2024-09-25T08:45:28.468938Z"
    },
    "papermill": {
     "duration": 0.023704,
     "end_time": "2024-09-25T08:45:28.471661",
     "exception": false,
     "start_time": "2024-09-25T08:45:28.447957",
     "status": "completed"
    },
    "tags": []
   },
   "outputs": [],
   "source": [
    "def display_coor_on_img(c, i, title):\n",
    "    center_coordinates = (int(c['x']), int(c['y']))\n",
    "    radius = 10\n",
    "    color = (255, 0, 0)  # Red color in BGR\n",
    "    thickness = 2\n",
    "    IMG = i['dicom'].pixel_array\n",
    "    IMG_normalized = cv2.normalize(IMG, None, alpha=0, beta=255, norm_type=cv2.NORM_MINMAX, dtype=cv2.CV_8U)\n",
    "    \n",
    "    IMG_with_circle = cv2.circle(IMG_normalized.copy(), center_coordinates, radius, color, thickness)\n",
    "    \n",
    "    # Convert the image from BGR to RGB for correct color display in matplotlib\n",
    "    IMG_with_circle = cv2.cvtColor(IMG_with_circle, cv2.COLOR_BGR2RGB)\n",
    "    \n",
    "    # Display the image\n",
    "    plt.imshow(IMG_with_circle)\n",
    "    plt.axis('off')  # Turn off axis numbers and ticks\n",
    "    plt.title(title)\n",
    "    plt.show()"
   ]
  },
  {
   "cell_type": "code",
   "execution_count": 10,
   "id": "d8132d8f",
   "metadata": {
    "execution": {
     "iopub.execute_input": "2024-09-25T08:45:28.500976Z",
     "iopub.status.busy": "2024-09-25T08:45:28.500622Z",
     "iopub.status.idle": "2024-09-25T08:45:28.504793Z",
     "shell.execute_reply": "2024-09-25T08:45:28.503809Z"
    },
    "papermill": {
     "duration": 0.021229,
     "end_time": "2024-09-25T08:45:28.506930",
     "exception": false,
     "start_time": "2024-09-25T08:45:28.485701",
     "status": "completed"
    },
    "tags": []
   },
   "outputs": [],
   "source": [
    "# coor_entries = df_coor[df_coor['study_id'] == int(patient['study_id'])]"
   ]
  },
  {
   "cell_type": "code",
   "execution_count": 11,
   "id": "665f239c",
   "metadata": {
    "execution": {
     "iopub.execute_input": "2024-09-25T08:45:28.536601Z",
     "iopub.status.busy": "2024-09-25T08:45:28.536248Z",
     "iopub.status.idle": "2024-09-25T08:45:28.540644Z",
     "shell.execute_reply": "2024-09-25T08:45:28.539742Z"
    },
    "papermill": {
     "duration": 0.021759,
     "end_time": "2024-09-25T08:45:28.542552",
     "exception": false,
     "start_time": "2024-09-25T08:45:28.520793",
     "status": "completed"
    },
    "tags": []
   },
   "outputs": [],
   "source": [
    "# print(\"Only showing severe cases for this patient\")\n",
    "# for idc, c in coor_entries.iterrows():\n",
    "#     for i in im_list_dcm[str(c['series_id'])]['images']:\n",
    "#         if int(i['SOPInstanceUID']) == int(c['instance_number']):\n",
    "#             try:\n",
    "#                 patient_severity = patient[\n",
    "#                     f\"{c['condition'].lower().replace(' ', '_')}_{c['level'].lower().replace('/', '_')}\"\n",
    "#                 ]\n",
    "#             except Exception as e:\n",
    "#                 patient_severity = \"unknown severity\"\n",
    "#             title = f\"{i['SOPInstanceUID']} \\n{c['level']}, {c['condition']}: {patient_severity} \\n{c['x']}, {c['y']}\"\n",
    "#             if patient_severity == 'Severe':\n",
    "#                 display_coor_on_img(c, i, title)"
   ]
  },
  {
   "cell_type": "code",
   "execution_count": 12,
   "id": "56b92e71",
   "metadata": {
    "execution": {
     "iopub.execute_input": "2024-09-25T08:45:28.571986Z",
     "iopub.status.busy": "2024-09-25T08:45:28.571308Z",
     "iopub.status.idle": "2024-09-25T08:45:28.575438Z",
     "shell.execute_reply": "2024-09-25T08:45:28.574576Z"
    },
    "papermill": {
     "duration": 0.020992,
     "end_time": "2024-09-25T08:45:28.577367",
     "exception": false,
     "start_time": "2024-09-25T08:45:28.556375",
     "status": "completed"
    },
    "tags": []
   },
   "outputs": [],
   "source": [
    "# !pip install torchio open3d timm_3d spacecutter skorch"
   ]
  },
  {
   "cell_type": "code",
   "execution_count": 13,
   "id": "179ef8c2",
   "metadata": {
    "execution": {
     "iopub.execute_input": "2024-09-25T08:45:28.605912Z",
     "iopub.status.busy": "2024-09-25T08:45:28.605651Z",
     "iopub.status.idle": "2024-09-25T08:45:28.609581Z",
     "shell.execute_reply": "2024-09-25T08:45:28.608818Z"
    },
    "papermill": {
     "duration": 0.0204,
     "end_time": "2024-09-25T08:45:28.611499",
     "exception": false,
     "start_time": "2024-09-25T08:45:28.591099",
     "status": "completed"
    },
    "tags": []
   },
   "outputs": [],
   "source": [
    "# import gc\n",
    "# import sys\n",
    "# import math, random\n",
    "# import matplotlib.pyplot as plt\n",
    "\n",
    "# import traceback\n",
    "# from collections import OrderedDict\n",
    "\n",
    "# import torch.nn.functional as F\n",
    "# from torch import nn\n",
    "# from torch.utils.data import DataLoader, Dataset\n",
    "# from torch.optim import AdamW\n",
    "\n",
    "# from transformers import get_cosine_schedule_with_warmup"
   ]
  },
  {
   "cell_type": "code",
   "execution_count": 14,
   "id": "075fe994",
   "metadata": {
    "execution": {
     "iopub.execute_input": "2024-09-25T08:45:28.640747Z",
     "iopub.status.busy": "2024-09-25T08:45:28.640066Z",
     "iopub.status.idle": "2024-09-25T08:45:28.644295Z",
     "shell.execute_reply": "2024-09-25T08:45:28.643341Z"
    },
    "papermill": {
     "duration": 0.020991,
     "end_time": "2024-09-25T08:45:28.646230",
     "exception": false,
     "start_time": "2024-09-25T08:45:28.625239",
     "status": "completed"
    },
    "tags": []
   },
   "outputs": [],
   "source": [
    "# def imread_and_imwirte(src_path, dst_path):\n",
    "#     dicom_data = pydicom.dcmread(src_path)\n",
    "#     image = dicom_data.pixel_array\n",
    "#     image = (image - image.min()) / (image.max() - image.min() +1e-6) * 255\n",
    "#     img = cv2.resize(image, (512, 512),interpolation=cv2.INTER_CUBIC)\n",
    "#     assert img.shape==(512,512)\n",
    "#     cv2.imwrite(dst_path, img)"
   ]
  },
  {
   "cell_type": "code",
   "execution_count": 15,
   "id": "d08b85ee",
   "metadata": {
    "execution": {
     "iopub.execute_input": "2024-09-25T08:45:28.675492Z",
     "iopub.status.busy": "2024-09-25T08:45:28.674822Z",
     "iopub.status.idle": "2024-09-25T08:45:28.817530Z",
     "shell.execute_reply": "2024-09-25T08:45:28.816706Z"
    },
    "papermill": {
     "duration": 0.159876,
     "end_time": "2024-09-25T08:45:28.819878",
     "exception": false,
     "start_time": "2024-09-25T08:45:28.660002",
     "status": "completed"
    },
    "tags": []
   },
   "outputs": [],
   "source": [
    "rd = '/kaggle/input/rsna-2024-lumbar-spine-degenerative-classification'\n",
    "df = pd.read_csv(f'{rd}/train_series_descriptions.csv')\n",
    "st_ids = df['study_id'].unique()\n",
    "dfc = pd.read_csv(f'{rd}/train_label_coordinates.csv')\n",
    "desc = list(df['series_description'].unique())"
   ]
  },
  {
   "cell_type": "code",
   "execution_count": 16,
   "id": "da2e63c8",
   "metadata": {
    "execution": {
     "iopub.execute_input": "2024-09-25T08:45:28.850293Z",
     "iopub.status.busy": "2024-09-25T08:45:28.849533Z",
     "iopub.status.idle": "2024-09-25T08:45:28.855006Z",
     "shell.execute_reply": "2024-09-25T08:45:28.854010Z"
    },
    "papermill": {
     "duration": 0.022784,
     "end_time": "2024-09-25T08:45:28.856873",
     "exception": false,
     "start_time": "2024-09-25T08:45:28.834089",
     "status": "completed"
    },
    "tags": []
   },
   "outputs": [],
   "source": [
    "def atoi(text):\n",
    "    return int(text) if text.isdigit() else text\n",
    "\n",
    "def natural_keys(text):\n",
    "    return [ atoi(c) for c in re.split(r'(\\d+)', text) ]"
   ]
  },
  {
   "cell_type": "code",
   "execution_count": 17,
   "id": "879468ae",
   "metadata": {
    "execution": {
     "iopub.execute_input": "2024-09-25T08:45:28.886698Z",
     "iopub.status.busy": "2024-09-25T08:45:28.885863Z",
     "iopub.status.idle": "2024-09-25T08:45:28.891694Z",
     "shell.execute_reply": "2024-09-25T08:45:28.890873Z"
    },
    "papermill": {
     "duration": 0.022838,
     "end_time": "2024-09-25T08:45:28.893684",
     "exception": false,
     "start_time": "2024-09-25T08:45:28.870846",
     "status": "completed"
    },
    "tags": []
   },
   "outputs": [],
   "source": [
    "# for idx, si in enumerate(tqdm(st_ids, total=len(st_ids))):\n",
    "#     pdf = df[df['study_id'] == si]\n",
    "#     for ds in desc:\n",
    "#         ds_ = ds.replace('/', '_')\n",
    "#         pdf_ = pdf[pdf['series_description'] == ds]\n",
    "#         os.makedirs(f'cvt_png/{si}/{ds_}', exist_ok=True)\n",
    "#         allimgs = []\n",
    "#         for i, row in pdf_.iterrows():\n",
    "#             pimgs = glob.glob(f'{rd}/train_images/{row[\"study_id\"]}/{row[\"series_id\"]}/*.dcm')\n",
    "#             pimgs = sorted(pimgs, key=natural_keys)\n",
    "#             allimgs.extend(pimgs)\n",
    "            \n",
    "#         if len(allimgs) == 0:\n",
    "#             print(si, ds, 'has no images')\n",
    "#             continue\n",
    "\n",
    "            \n",
    "#         if len(allimgs)==0:\n",
    "#             print(si, ds, 'has no images')\n",
    "#             print(pimgs)\n",
    "#             print(allimgs)\n",
    "#             continue\n",
    "\n",
    "#         if ds == 'Axial T2':\n",
    "#             for j, impath in enumerate(allimgs):\n",
    "#                 dst = f'cvt_png/{si}/{ds}/{j:03d}.png'\n",
    "#                 imread_and_imwirte(impath, dst)\n",
    "                \n",
    "#         elif ds == 'Sagittal T2/STIR':\n",
    "            \n",
    "#             step = len(allimgs) / 10.0\n",
    "#             st = len(allimgs)/2.0 - 4.0*step\n",
    "#             end = len(allimgs)+0.0001\n",
    "#             for j, i in enumerate(np.arange(st, end, step)):\n",
    "#                 dst = f'cvt_png/{si}/{ds_}/{j:03d}.png'\n",
    "#                 ind2 = max(0, int((i-0.5001).round()))\n",
    "#                 imread_and_imwirte(allimgs[ind2], dst)\n",
    "                \n",
    "#             assert len(glob.glob(f'cvt_png/{si}/{ds_}/*.png'))==10\n",
    "                \n",
    "#         elif ds == 'Sagittal T1':\n",
    "#             step = len(allimgs) / 10.0\n",
    "#             st = len(allimgs)/2.0 - 4.0*step\n",
    "#             end = len(allimgs)+0.0001\n",
    "#             for j, i in enumerate(np.arange(st, end, step)):\n",
    "#                 dst = f'cvt_png/{si}/{ds}/{j:03d}.png'\n",
    "#                 ind2 = max(0, int((i-0.5001).round()))\n",
    "#                 imread_and_imwirte(allimgs[ind2], dst)\n",
    "                \n",
    "#             assert len(glob.glob(f'cvt_png/{si}/{ds}/*.png'))==10"
   ]
  },
  {
   "cell_type": "code",
   "execution_count": 18,
   "id": "1d6e37b6",
   "metadata": {
    "execution": {
     "iopub.execute_input": "2024-09-25T08:45:28.922704Z",
     "iopub.status.busy": "2024-09-25T08:45:28.922379Z",
     "iopub.status.idle": "2024-09-25T08:45:28.992389Z",
     "shell.execute_reply": "2024-09-25T08:45:28.991442Z"
    },
    "papermill": {
     "duration": 0.08693,
     "end_time": "2024-09-25T08:45:28.994518",
     "exception": false,
     "start_time": "2024-09-25T08:45:28.907588",
     "status": "completed"
    },
    "tags": []
   },
   "outputs": [],
   "source": [
    "NOT_DEBUG = True # True -> run naormally, False -> debug mode, with lesser computing cost\n",
    "\n",
    "OUTPUT_DIR = f'rsna24-results'\n",
    "device = 'cuda:0' if torch.cuda.is_available() else 'cpu'\n",
    "N_WORKERS = os.cpu_count() \n",
    "USE_AMP = True # can change True if using T4 or newer than Ampere\n",
    "SEED = 8620\n",
    "MODEL_DIR= \"/kaggle/input/test/pytorch/default/2\"\n",
    "IMG_SIZE = [512, 512]\n",
    "IN_CHANS = 30\n",
    "N_LABELS = 25\n",
    "N_CLASSES = 3 * N_LABELS\n",
    "\n",
    "AUG_PROB = 0.75\n",
    "\n",
    "N_FOLDS = 3 if NOT_DEBUG else 2\n",
    "EPOCHS = 20 if NOT_DEBUG else 2\n",
    "MODEL_NAME = \"tf_efficientnet_b3.ns_jft_in1k\" if NOT_DEBUG else \"tf_efficientnet_b0.ns_jft_in1k\"\n",
    "\n",
    "GRAD_ACC = 2\n",
    "TGT_BATCH_SIZE = 32\n",
    "BATCH_SIZE = TGT_BATCH_SIZE // GRAD_ACC\n",
    "MAX_GRAD_NORM = None\n",
    "EARLY_STOPPING_EPOCH = 3\n",
    "\n",
    "LR = 2e-4 * TGT_BATCH_SIZE / 32\n",
    "WD = 1e-2\n",
    "AUG = True\n"
   ]
  },
  {
   "cell_type": "code",
   "execution_count": 19,
   "id": "293e326b",
   "metadata": {
    "execution": {
     "iopub.execute_input": "2024-09-25T08:45:29.024350Z",
     "iopub.status.busy": "2024-09-25T08:45:29.023726Z",
     "iopub.status.idle": "2024-09-25T08:45:29.028190Z",
     "shell.execute_reply": "2024-09-25T08:45:29.027317Z"
    },
    "papermill": {
     "duration": 0.021581,
     "end_time": "2024-09-25T08:45:29.030126",
     "exception": false,
     "start_time": "2024-09-25T08:45:29.008545",
     "status": "completed"
    },
    "tags": []
   },
   "outputs": [],
   "source": [
    "os.makedirs(OUTPUT_DIR, exist_ok=True)"
   ]
  },
  {
   "cell_type": "code",
   "execution_count": 20,
   "id": "3d497c47",
   "metadata": {
    "execution": {
     "iopub.execute_input": "2024-09-25T08:45:29.059681Z",
     "iopub.status.busy": "2024-09-25T08:45:29.059170Z",
     "iopub.status.idle": "2024-09-25T08:45:29.064808Z",
     "shell.execute_reply": "2024-09-25T08:45:29.063899Z"
    },
    "papermill": {
     "duration": 0.022577,
     "end_time": "2024-09-25T08:45:29.066632",
     "exception": false,
     "start_time": "2024-09-25T08:45:29.044055",
     "status": "completed"
    },
    "tags": []
   },
   "outputs": [],
   "source": [
    "def set_random_seed(seed: int = 8620, deterministic: bool = False):\n",
    "    \"\"\"Set seeds\"\"\"\n",
    "    random.seed(seed)\n",
    "    np.random.seed(seed)\n",
    "    os.environ[\"PYTHONHASHSEED\"] = str(seed)\n",
    "    torch.manual_seed(seed)\n",
    "    torch.cuda.manual_seed(seed)  # type: ignore\n",
    "    torch.backends.cudnn.benchmark = True\n",
    "    torch.backends.cudnn.deterministic = deterministic  # type: ignore\n"
   ]
  },
  {
   "cell_type": "code",
   "execution_count": 21,
   "id": "85cae0ae",
   "metadata": {
    "execution": {
     "iopub.execute_input": "2024-09-25T08:45:29.095885Z",
     "iopub.status.busy": "2024-09-25T08:45:29.095606Z",
     "iopub.status.idle": "2024-09-25T08:45:29.099659Z",
     "shell.execute_reply": "2024-09-25T08:45:29.098568Z"
    },
    "papermill": {
     "duration": 0.0212,
     "end_time": "2024-09-25T08:45:29.101630",
     "exception": false,
     "start_time": "2024-09-25T08:45:29.080430",
     "status": "completed"
    },
    "tags": []
   },
   "outputs": [],
   "source": [
    "# df = pd.read_csv(f'{rd}/train.csv')\n",
    "# df.head()"
   ]
  },
  {
   "cell_type": "code",
   "execution_count": 22,
   "id": "2e49ffda",
   "metadata": {
    "execution": {
     "iopub.execute_input": "2024-09-25T08:45:29.132044Z",
     "iopub.status.busy": "2024-09-25T08:45:29.131688Z",
     "iopub.status.idle": "2024-09-25T08:45:29.136240Z",
     "shell.execute_reply": "2024-09-25T08:45:29.135241Z"
    },
    "papermill": {
     "duration": 0.021479,
     "end_time": "2024-09-25T08:45:29.138242",
     "exception": false,
     "start_time": "2024-09-25T08:45:29.116763",
     "status": "completed"
    },
    "tags": []
   },
   "outputs": [],
   "source": [
    "# df = df.fillna(-100)"
   ]
  },
  {
   "cell_type": "code",
   "execution_count": 23,
   "id": "8435c7ac",
   "metadata": {
    "execution": {
     "iopub.execute_input": "2024-09-25T08:45:29.168667Z",
     "iopub.status.busy": "2024-09-25T08:45:29.167869Z",
     "iopub.status.idle": "2024-09-25T08:45:29.172313Z",
     "shell.execute_reply": "2024-09-25T08:45:29.171346Z"
    },
    "papermill": {
     "duration": 0.022555,
     "end_time": "2024-09-25T08:45:29.174525",
     "exception": false,
     "start_time": "2024-09-25T08:45:29.151970",
     "status": "completed"
    },
    "tags": []
   },
   "outputs": [],
   "source": [
    "# label2id = {'Normal/Mild': 0, 'Moderate':1, 'Severe':2}\n",
    "# df = df.replace(label2id)\n",
    "# df.head()"
   ]
  },
  {
   "cell_type": "code",
   "execution_count": 24,
   "id": "bc435fbf",
   "metadata": {
    "execution": {
     "iopub.execute_input": "2024-09-25T08:45:29.204714Z",
     "iopub.status.busy": "2024-09-25T08:45:29.204297Z",
     "iopub.status.idle": "2024-09-25T08:45:29.209273Z",
     "shell.execute_reply": "2024-09-25T08:45:29.208373Z"
    },
    "papermill": {
     "duration": 0.022747,
     "end_time": "2024-09-25T08:45:29.211265",
     "exception": false,
     "start_time": "2024-09-25T08:45:29.188518",
     "status": "completed"
    },
    "tags": []
   },
   "outputs": [],
   "source": [
    "CONDITIONS = [\n",
    "    'Spinal Canal Stenosis', \n",
    "    'Left Neural Foraminal Narrowing', \n",
    "    'Right Neural Foraminal Narrowing',\n",
    "    'Left Subarticular Stenosis',\n",
    "    'Right Subarticular Stenosis'\n",
    "]\n",
    "\n",
    "LEVELS = [\n",
    "    'L1/L2',\n",
    "    'L2/L3',\n",
    "    'L3/L4',\n",
    "    'L4/L5',\n",
    "    'L5/S1',\n",
    "]"
   ]
  },
  {
   "cell_type": "code",
   "execution_count": 25,
   "id": "de07a655",
   "metadata": {
    "execution": {
     "iopub.execute_input": "2024-09-25T08:45:29.241149Z",
     "iopub.status.busy": "2024-09-25T08:45:29.240806Z",
     "iopub.status.idle": "2024-09-25T08:45:29.255124Z",
     "shell.execute_reply": "2024-09-25T08:45:29.254310Z"
    },
    "papermill": {
     "duration": 0.031267,
     "end_time": "2024-09-25T08:45:29.256923",
     "exception": false,
     "start_time": "2024-09-25T08:45:29.225656",
     "status": "completed"
    },
    "tags": []
   },
   "outputs": [],
   "source": [
    "class RSNA24Dataset(Dataset):\n",
    "    def __init__(self, df, phase='train', transform=None):\n",
    "        self.df = df\n",
    "        self.transform = transform\n",
    "        self.phase = phase\n",
    "    \n",
    "    def __len__(self):\n",
    "        return len(self.df)\n",
    "\n",
    "    def __getitem__(self, idx):\n",
    "        x = np.zeros((512, 512, IN_CHANS), dtype=np.uint8)\n",
    "        t = self.df.iloc[idx]\n",
    "        st_id = int(t['study_id'])\n",
    "        label = t[1:].values.astype(np.int64)\n",
    "        \n",
    "        # Sagittal T1\n",
    "        for i in range(0, 10, 1):\n",
    "            try:\n",
    "                p = f'./cvt_png/{st_id}/Sagittal T1/{i:03d}.png'\n",
    "                img = Image.open(p).convert('L')\n",
    "                img = np.array(img)\n",
    "                x[..., i] = img.astype(np.uint8)\n",
    "            except Exception as e:\n",
    "#                 print(f'Failed to load on {st_id}, Sagittal T1, error: {e}')\n",
    "#                 traceback.print_exc()\n",
    "                pass\n",
    "            \n",
    "        # Sagittal T2/STIR\n",
    "        for i in range(0, 10, 1):\n",
    "            try:\n",
    "                p = f'./cvt_png/{st_id}/Sagittal T2_STIR/{i:03d}.png'\n",
    "                img = Image.open(p).convert('L')\n",
    "                img = np.array(img)\n",
    "                x[..., i+10] = img.astype(np.uint8)\n",
    "            except Exception as e:\n",
    "#                 print(f'Failed to load on {st_id}, Sagittal T1, error: {e}')\n",
    "#                 traceback.print_exc()\n",
    "                pass\n",
    "            \n",
    "        # Axial T2\n",
    "        axt2 = glob.glob(f'./cvt_png/{st_id}/Axial T2/*.png')\n",
    "        axt2 = sorted(axt2)\n",
    "    \n",
    "        step = len(axt2) / 10.0\n",
    "        st = len(axt2)/2.0 - 4.0*step\n",
    "        end = len(axt2)+0.0001\n",
    "                \n",
    "        for i, j in enumerate(np.arange(st, end, step)):\n",
    "            try:\n",
    "                p = axt2[max(0, int((j-0.5001).round()))]\n",
    "                img = Image.open(p).convert('L')\n",
    "                img = np.array(img)\n",
    "                x[..., i+20] = img.astype(np.uint8)\n",
    "            except Exception as e:\n",
    "#                 print(f'Failed to load on {st_id}, Sagittal T1, error: {e}')\n",
    "#                 traceback.print_exc()\n",
    "                pass\n",
    "            \n",
    "        assert np.sum(x)>0\n",
    "            \n",
    "        if self.transform is not None:\n",
    "            x = self.transform(image=x)['image']\n",
    "\n",
    "        x = x.transpose(2, 0, 1)\n",
    "                \n",
    "        return x, label"
   ]
  },
  {
   "cell_type": "code",
   "execution_count": 26,
   "id": "7632cbd4",
   "metadata": {
    "execution": {
     "iopub.execute_input": "2024-09-25T08:45:29.286539Z",
     "iopub.status.busy": "2024-09-25T08:45:29.286178Z",
     "iopub.status.idle": "2024-09-25T08:45:29.290633Z",
     "shell.execute_reply": "2024-09-25T08:45:29.289760Z"
    },
    "papermill": {
     "duration": 0.021342,
     "end_time": "2024-09-25T08:45:29.292538",
     "exception": false,
     "start_time": "2024-09-25T08:45:29.271196",
     "status": "completed"
    },
    "tags": []
   },
   "outputs": [],
   "source": [
    "# transforms_train = A.Compose([\n",
    "#     A.RandomBrightnessContrast(brightness_limit=(-0.2, 0.2), contrast_limit=(-0.2, 0.2), p=AUG_PROB),\n",
    "#     A.OneOf([\n",
    "#         A.MotionBlur(blur_limit=5),\n",
    "#         A.MedianBlur(blur_limit=5),\n",
    "#         A.GaussianBlur(blur_limit=5),\n",
    "#         A.GaussNoise(var_limit=(5.0, 30.0)),\n",
    "#     ], p=AUG_PROB),\n",
    "\n",
    "#     A.OneOf([\n",
    "#         A.OpticalDistortion(distort_limit=1.0),\n",
    "#         A.GridDistortion(num_steps=5, distort_limit=1.),\n",
    "#         A.ElasticTransform(alpha=3),\n",
    "#     ], p=AUG_PROB),\n",
    "\n",
    "#     A.ShiftScaleRotate(shift_limit=0.1, scale_limit=0.1, rotate_limit=15, border_mode=0, p=AUG_PROB),\n",
    "#     A.Resize(IMG_SIZE[0], IMG_SIZE[1]),\n",
    "#     A.CoarseDropout(max_holes=16, max_height=64, max_width=64, min_holes=1, min_height=8, min_width=8, p=AUG_PROB),    \n",
    "#     A.Normalize(mean=0.5, std=0.5)\n",
    "# ])\n",
    "\n",
    "# transforms_val = A.Compose([\n",
    "#     A.Resize(IMG_SIZE[0], IMG_SIZE[1]),\n",
    "#     A.Normalize(mean=0.5, std=0.5)\n",
    "# ])\n",
    "\n",
    "# if not NOT_DEBUG or not AUG:\n",
    "#     transforms_train = transforms_val"
   ]
  },
  {
   "cell_type": "code",
   "execution_count": 27,
   "id": "bdfa824c",
   "metadata": {
    "execution": {
     "iopub.execute_input": "2024-09-25T08:45:29.321423Z",
     "iopub.status.busy": "2024-09-25T08:45:29.321125Z",
     "iopub.status.idle": "2024-09-25T08:45:29.325057Z",
     "shell.execute_reply": "2024-09-25T08:45:29.324286Z"
    },
    "papermill": {
     "duration": 0.020241,
     "end_time": "2024-09-25T08:45:29.326817",
     "exception": false,
     "start_time": "2024-09-25T08:45:29.306576",
     "status": "completed"
    },
    "tags": []
   },
   "outputs": [],
   "source": [
    "# tmp_ds = RSNA24Dataset(df, phase='train', transform=transforms_train)\n",
    "# tmp_dl = DataLoader(\n",
    "#             tmp_ds,\n",
    "#             batch_size=1,\n",
    "#             shuffle=False,\n",
    "#             pin_memory=True,\n",
    "#             drop_last=False,\n",
    "#             num_workers=0\n",
    "#             )\n"
   ]
  },
  {
   "cell_type": "code",
   "execution_count": 28,
   "id": "234c1f9d",
   "metadata": {
    "execution": {
     "iopub.execute_input": "2024-09-25T08:45:29.355321Z",
     "iopub.status.busy": "2024-09-25T08:45:29.354997Z",
     "iopub.status.idle": "2024-09-25T08:45:29.358946Z",
     "shell.execute_reply": "2024-09-25T08:45:29.358096Z"
    },
    "papermill": {
     "duration": 0.020495,
     "end_time": "2024-09-25T08:45:29.360825",
     "exception": false,
     "start_time": "2024-09-25T08:45:29.340330",
     "status": "completed"
    },
    "tags": []
   },
   "outputs": [],
   "source": [
    "\n",
    "# for i, (x, t) in enumerate(tmp_dl):\n",
    "#     if i==5:break\n",
    "#     print('x stat:', x.shape, x.min(), x.max(),x.mean(), x.std())\n",
    "#     print(t, t.shape)\n",
    "#     y = x.numpy().transpose(0,2,3,1)[0,...,:3]\n",
    "#     y = (y + 1) / 2\n",
    "#     plt.imshow(y)\n",
    "#     plt.show()\n",
    "#     print('y stat:', y.shape, y.min(), y.max(),y.mean(), y.std())\n",
    "#     print()\n",
    "# plt.close()\n",
    "# del tmp_ds, tmp_dl"
   ]
  },
  {
   "cell_type": "code",
   "execution_count": 29,
   "id": "4de7acec",
   "metadata": {
    "execution": {
     "iopub.execute_input": "2024-09-25T08:45:29.389937Z",
     "iopub.status.busy": "2024-09-25T08:45:29.389194Z",
     "iopub.status.idle": "2024-09-25T08:45:29.395445Z",
     "shell.execute_reply": "2024-09-25T08:45:29.394583Z"
    },
    "papermill": {
     "duration": 0.022789,
     "end_time": "2024-09-25T08:45:29.397443",
     "exception": false,
     "start_time": "2024-09-25T08:45:29.374654",
     "status": "completed"
    },
    "tags": []
   },
   "outputs": [],
   "source": [
    "class RSNA24Model(nn.Module):\n",
    "    def __init__(self, model_name, in_c=30, n_classes=75, pretrained=True, features_only=False):\n",
    "        super().__init__()\n",
    "        self.model = timm.create_model(\n",
    "                                    model_name,\n",
    "                                    pretrained=pretrained, \n",
    "                                    features_only=features_only,\n",
    "                                    in_chans=in_c,\n",
    "                                    num_classes=n_classes,\n",
    "                                    global_pool='avg'\n",
    "                                    )\n",
    "    \n",
    "    def forward(self, x):\n",
    "        y = self.model(x)\n",
    "        return y"
   ]
  },
  {
   "cell_type": "code",
   "execution_count": 30,
   "id": "3ed6332b",
   "metadata": {
    "execution": {
     "iopub.execute_input": "2024-09-25T08:45:29.426423Z",
     "iopub.status.busy": "2024-09-25T08:45:29.426114Z",
     "iopub.status.idle": "2024-09-25T08:45:29.430037Z",
     "shell.execute_reply": "2024-09-25T08:45:29.429304Z"
    },
    "papermill": {
     "duration": 0.020887,
     "end_time": "2024-09-25T08:45:29.431954",
     "exception": false,
     "start_time": "2024-09-25T08:45:29.411067",
     "status": "completed"
    },
    "tags": []
   },
   "outputs": [],
   "source": [
    "# m = RSNA24Model(MODEL_NAME, in_c=IN_CHANS, n_classes=N_CLASSES, pretrained=False)\n",
    "# i = torch.randn(2, IN_CHANS, 512, 512)\n",
    "# out = m(i)\n",
    "# for o in out:\n",
    "#     print(o.shape, o.min(), o.max())"
   ]
  },
  {
   "cell_type": "code",
   "execution_count": 31,
   "id": "719d3a45",
   "metadata": {
    "execution": {
     "iopub.execute_input": "2024-09-25T08:45:29.460511Z",
     "iopub.status.busy": "2024-09-25T08:45:29.460173Z",
     "iopub.status.idle": "2024-09-25T08:45:29.464047Z",
     "shell.execute_reply": "2024-09-25T08:45:29.463229Z"
    },
    "papermill": {
     "duration": 0.020213,
     "end_time": "2024-09-25T08:45:29.465872",
     "exception": false,
     "start_time": "2024-09-25T08:45:29.445659",
     "status": "completed"
    },
    "tags": []
   },
   "outputs": [],
   "source": [
    "# del m, i, out"
   ]
  },
  {
   "cell_type": "code",
   "execution_count": 32,
   "id": "9cdc1ebc",
   "metadata": {
    "execution": {
     "iopub.execute_input": "2024-09-25T08:45:29.494617Z",
     "iopub.status.busy": "2024-09-25T08:45:29.494043Z",
     "iopub.status.idle": "2024-09-25T08:45:29.498497Z",
     "shell.execute_reply": "2024-09-25T08:45:29.497633Z"
    },
    "papermill": {
     "duration": 0.020856,
     "end_time": "2024-09-25T08:45:29.500392",
     "exception": false,
     "start_time": "2024-09-25T08:45:29.479536",
     "status": "completed"
    },
    "tags": []
   },
   "outputs": [],
   "source": [
    "skf = KFold(n_splits=N_FOLDS, shuffle=True, random_state=SEED)"
   ]
  },
  {
   "cell_type": "code",
   "execution_count": 33,
   "id": "9ec67d66",
   "metadata": {
    "execution": {
     "iopub.execute_input": "2024-09-25T08:45:29.529597Z",
     "iopub.status.busy": "2024-09-25T08:45:29.529265Z",
     "iopub.status.idle": "2024-09-25T08:45:29.538150Z",
     "shell.execute_reply": "2024-09-25T08:45:29.537291Z"
    },
    "papermill": {
     "duration": 0.025996,
     "end_time": "2024-09-25T08:45:29.540108",
     "exception": false,
     "start_time": "2024-09-25T08:45:29.514112",
     "status": "completed"
    },
    "tags": []
   },
   "outputs": [],
   "source": [
    "# from collections import OrderedDict\n",
    "# import math\n",
    "# from torch.utils.data import DataLoader\n",
    "# from torch.optim import AdamW\n",
    "# from transformers import get_cosine_schedule_with_warmup\n",
    "\n",
    "# # Autocast and GradScaler initialization\n",
    "# autocast = torch.amp.autocast(device, enabled=USE_AMP, dtype=torch.half)\n",
    "# scaler = torch.amp.GradScaler(enabled=USE_AMP, init_scale=4096)\n",
    "\n",
    "# # Stratified K-Fold\n",
    "\n",
    "# for fold, (trn_idx, val_idx) in enumerate(skf.split(range(len(df)))):\n",
    "#     print('#'*30)\n",
    "#     print(f'Start fold {fold}')\n",
    "#     print('#'*30)\n",
    "#     print(len(trn_idx), len(val_idx))\n",
    "\n",
    "#     # Data preparation\n",
    "#     df_train = df.iloc[trn_idx]\n",
    "#     df_valid = df.iloc[val_idx]\n",
    "\n",
    "#     train_ds = RSNA24Dataset(df_train, phase='train', transform=transforms_train)\n",
    "#     train_dl = DataLoader(train_ds, batch_size=BATCH_SIZE, shuffle=True, pin_memory=True, drop_last=True, num_workers=N_WORKERS)\n",
    "\n",
    "#     valid_ds = RSNA24Dataset(df_valid, phase='valid', transform=transforms_val)\n",
    "#     valid_dl = DataLoader(valid_ds, batch_size=BATCH_SIZE * 2, shuffle=False, pin_memory=True, drop_last=False, num_workers=N_WORKERS)\n",
    "\n",
    "#     # Model, optimizer, scheduler\n",
    "#     model = RSNA24Model(MODEL_NAME, IN_CHANS, N_CLASSES, pretrained=True)\n",
    "#     model.to(device)\n",
    "\n",
    "#     optimizer = AdamW(model.parameters(), lr=LR, weight_decay=WD)\n",
    "\n",
    "#     warmup_steps = EPOCHS / 10 * len(train_dl) // GRAD_ACC\n",
    "#     num_total_steps = EPOCHS * len(train_dl) // GRAD_ACC\n",
    "#     num_cycles = 0.475\n",
    "#     scheduler = get_cosine_schedule_with_warmup(optimizer, num_warmup_steps=warmup_steps, num_training_steps=num_total_steps, num_cycles=num_cycles)\n",
    "\n",
    "#     # Loss function with weights\n",
    "#     weights = torch.tensor([1.0, 2.0, 4.0])\n",
    "#     criterion = nn.CrossEntropyLoss(weight=weights.to(device))\n",
    "\n",
    "#     best_loss = 1.2\n",
    "#     best_wll = 1.2\n",
    "#     es_step = 0\n",
    "\n",
    "#     def compute_loss(y, t, criterion):\n",
    "#         \"\"\"Helper function to compute loss over columns.\"\"\"\n",
    "#         loss = 0\n",
    "#         for col in range(N_LABELS):\n",
    "#             pred = y[:, col * 3: col * 3 + 3]\n",
    "#             gt = t[:, col]\n",
    "#             loss += criterion(pred, gt) / N_LABELS\n",
    "#         return loss\n",
    "\n",
    "#     # Training and validation loop\n",
    "#     for epoch in range(1, EPOCHS + 1):\n",
    "#         print(f'Start epoch {epoch}')\n",
    "\n",
    "#         # Training phase\n",
    "#         model.train()\n",
    "#         total_loss = 0\n",
    "#         optimizer.zero_grad(set_to_none=True)\n",
    "\n",
    "#         with tqdm(train_dl, leave=True) as pbar:\n",
    "#             for idx, (x, t) in enumerate(pbar):\n",
    "#                 x, t = x.to(device), t.to(device)\n",
    "\n",
    "#                 with autocast:\n",
    "#                     y = model(x)\n",
    "#                     loss = compute_loss(y, t, criterion)\n",
    "\n",
    "#                     total_loss += loss.item()\n",
    "#                     if GRAD_ACC > 1:\n",
    "#                         loss /= GRAD_ACC\n",
    "\n",
    "#                 # Handle NaN loss\n",
    "#                 if not math.isfinite(loss):\n",
    "#                     print(f\"Loss is {loss}, stopping training\")\n",
    "#                     sys.exit(1)\n",
    "\n",
    "#                 pbar.set_postfix(OrderedDict(loss=f'{loss.item() * GRAD_ACC:.6f}', lr=f'{optimizer.param_groups[0][\"lr\"]:.3e}'))\n",
    "#                 scaler.scale(loss).backward()\n",
    "\n",
    "#                 torch.nn.utils.clip_grad_norm_(model.parameters(), MAX_GRAD_NORM or 1e9)\n",
    "\n",
    "#                 if (idx + 1) % GRAD_ACC == 0:\n",
    "#                     scaler.step(optimizer)\n",
    "#                     scaler.update()\n",
    "#                     optimizer.zero_grad(set_to_none=True)\n",
    "\n",
    "#                     if scheduler is not None:\n",
    "#                         scheduler.step()\n",
    "\n",
    "#         train_loss = total_loss / len(train_dl)\n",
    "#         print(f'train_loss: {train_loss:.6f}')\n",
    "\n",
    "#         # Validation phase\n",
    "#         model.eval()\n",
    "#         total_loss = 0\n",
    "#         y_preds = []\n",
    "#         labels = []\n",
    "\n",
    "#         with tqdm(valid_dl, leave=True) as pbar:\n",
    "#             with torch.no_grad():\n",
    "#                 for idx, (x, t) in enumerate(pbar):\n",
    "#                     x, t = x.to(device), t.to(device)\n",
    "\n",
    "#                     with autocast:\n",
    "#                         y = model(x)\n",
    "#                         loss = compute_loss(y, t, criterion)\n",
    "#                         total_loss += loss.item()\n",
    "\n",
    "#                         # Collect predictions and labels for evaluation\n",
    "#                         for col in range(N_LABELS):\n",
    "#                             pred = y[:, col * 3:col * 3 + 3]\n",
    "#                             y_preds.append(pred.float().cpu())\n",
    "#                             labels.append(t[:, col].cpu())\n",
    "\n",
    "#         val_loss = total_loss / len(valid_dl)\n",
    "#         y_preds = torch.cat(y_preds, dim=0)\n",
    "#         labels = torch.cat(labels)\n",
    "#         val_wll = nn.CrossEntropyLoss()(y_preds, labels)\n",
    "\n",
    "#         print(f'val_loss: {val_loss:.6f}, val_wll: {val_wll:.6f}')\n",
    "\n",
    "#         # Early stopping and saving the best model\n",
    "#         if val_loss < best_loss or val_wll < best_wll:\n",
    "#             es_step = 0\n",
    "\n",
    "#             if val_loss < best_loss:\n",
    "#                 print(f'Epoch: {epoch}, best loss updated from {best_loss:.6f} to {val_loss:.6f}')\n",
    "#                 best_loss = val_loss\n",
    "\n",
    "#             if val_wll < best_wll:\n",
    "#                 print(f'Epoch: {epoch}, best wll_metric updated from {best_wll:.6f} to {val_wll:.6f}')\n",
    "#                 best_wll = val_wll\n",
    "#                 torch.save(model.state_dict(), f'{OUTPUT_DIR}/best_wll_model_fold-{fold}.pt')\n",
    "\n",
    "#         else:\n",
    "#             es_step += 1\n",
    "#             if es_step >= EARLY_STOPPING_EPOCH:\n",
    "#                 print('Early stopping')\n",
    "#                 break\n"
   ]
  },
  {
   "cell_type": "code",
   "execution_count": 34,
   "id": "2d2cf319",
   "metadata": {
    "execution": {
     "iopub.execute_input": "2024-09-25T08:45:29.568907Z",
     "iopub.status.busy": "2024-09-25T08:45:29.568600Z",
     "iopub.status.idle": "2024-09-25T08:45:29.573824Z",
     "shell.execute_reply": "2024-09-25T08:45:29.572924Z"
    },
    "papermill": {
     "duration": 0.021943,
     "end_time": "2024-09-25T08:45:29.575731",
     "exception": false,
     "start_time": "2024-09-25T08:45:29.553788",
     "status": "completed"
    },
    "tags": []
   },
   "outputs": [],
   "source": [
    "# cv = 0\n",
    "# y_preds = []\n",
    "# labels = []\n",
    "# weights = torch.tensor([1.0, 2.0, 4.0])\n",
    "# criterion2 = nn.CrossEntropyLoss(weight=weights)\n",
    "\n",
    "# for fold, (trn_idx, val_idx) in enumerate(skf.split(range(len(df)))):\n",
    "#     print('#'*30)\n",
    "#     print(f'start fold{fold}')\n",
    "#     print('#'*30)\n",
    "#     df_valid = df.iloc[val_idx]\n",
    "#     valid_ds = RSNA24Dataset(df_valid, phase='valid', transform=transforms_val)\n",
    "#     valid_dl = DataLoader(\n",
    "#                 valid_ds,\n",
    "#                 batch_size=1,\n",
    "#                 shuffle=False,\n",
    "#                 pin_memory=True,\n",
    "#                 drop_last=False,\n",
    "#                 num_workers=N_WORKERS\n",
    "#                 )\n",
    "\n",
    "#     model = RSNA24Model(MODEL_NAME, IN_CHANS, N_CLASSES, pretrained=False)    \n",
    "#     fname = f'{MODEL_DIR}/best_wll_model_fold-{fold}.pt'\n",
    "#     model.load_state_dict(torch.load(fname))\n",
    "#     model.to(device)   \n",
    "    \n",
    "#     model.eval()\n",
    "#     with tqdm(valid_dl, leave=True) as pbar:\n",
    "#         with torch.no_grad():\n",
    "#             for idx, (x, t) in enumerate(pbar):\n",
    "                \n",
    "#                 x = x.to(device)\n",
    "#                 t = t.to(device)\n",
    "                    \n",
    "#                 with autocast:\n",
    "#                     y = model(x)\n",
    "#                     for col in range(N_LABELS):\n",
    "#                         pred = y[:,col*3:col*3+3]\n",
    "#                         gt = t[:,col] \n",
    "#                         y_pred = pred.float()\n",
    "#                         y_preds.append(y_pred.cpu())\n",
    "#                         labels.append(gt.cpu())\n",
    "\n",
    "# y_preds = torch.cat(y_preds)\n",
    "# labels = torch.cat(labels)"
   ]
  },
  {
   "cell_type": "code",
   "execution_count": 35,
   "id": "fefa2003",
   "metadata": {
    "execution": {
     "iopub.execute_input": "2024-09-25T08:45:29.604557Z",
     "iopub.status.busy": "2024-09-25T08:45:29.604148Z",
     "iopub.status.idle": "2024-09-25T08:45:29.609273Z",
     "shell.execute_reply": "2024-09-25T08:45:29.608511Z"
    },
    "papermill": {
     "duration": 0.021939,
     "end_time": "2024-09-25T08:45:29.611187",
     "exception": false,
     "start_time": "2024-09-25T08:45:29.589248",
     "status": "completed"
    },
    "tags": []
   },
   "outputs": [],
   "source": [
    "# cv = criterion2(y_preds, labels)\n",
    "# print('cv score:', cv.item())"
   ]
  },
  {
   "cell_type": "code",
   "execution_count": 36,
   "id": "657fa33d",
   "metadata": {
    "execution": {
     "iopub.execute_input": "2024-09-25T08:45:29.676551Z",
     "iopub.status.busy": "2024-09-25T08:45:29.676129Z",
     "iopub.status.idle": "2024-09-25T08:45:29.680546Z",
     "shell.execute_reply": "2024-09-25T08:45:29.679657Z"
    },
    "papermill": {
     "duration": 0.021516,
     "end_time": "2024-09-25T08:45:29.682443",
     "exception": false,
     "start_time": "2024-09-25T08:45:29.660927",
     "status": "completed"
    },
    "tags": []
   },
   "outputs": [],
   "source": [
    "# from sklearn.metrics import log_loss\n",
    "# y_pred_np = y_preds.softmax(1).numpy()\n",
    "# labels_np = labels.numpy()\n",
    "# y_pred_nan = np.zeros((y_preds.shape[0], 1))\n",
    "# y_pred2 = np.concatenate([y_pred_nan, y_pred_np],axis=1)\n",
    "# weights = []\n",
    "# for l in labels:\n",
    "#     if l==0: weights.append(1)\n",
    "#     elif l==1: weights.append(2)\n",
    "#     elif l==2: weights.append(4)\n",
    "#     else: weights.append(0)\n",
    "# cv2 = log_loss(labels, y_pred2, normalize=True, sample_weight=weights)\n",
    "# print('cv score:', cv2)"
   ]
  },
  {
   "cell_type": "code",
   "execution_count": 37,
   "id": "143752a1",
   "metadata": {
    "execution": {
     "iopub.execute_input": "2024-09-25T08:45:29.711191Z",
     "iopub.status.busy": "2024-09-25T08:45:29.710873Z",
     "iopub.status.idle": "2024-09-25T08:45:29.714848Z",
     "shell.execute_reply": "2024-09-25T08:45:29.713902Z"
    },
    "papermill": {
     "duration": 0.020417,
     "end_time": "2024-09-25T08:45:29.716650",
     "exception": false,
     "start_time": "2024-09-25T08:45:29.696233",
     "status": "completed"
    },
    "tags": []
   },
   "outputs": [],
   "source": [
    "# np.save(f'{OUTPUT_DIR}/labels.npy', labels_np)\n",
    "# np.save(f'{OUTPUT_DIR}/final_oof.npy', y_pred2)"
   ]
  },
  {
   "cell_type": "code",
   "execution_count": 38,
   "id": "edcebb92",
   "metadata": {
    "execution": {
     "iopub.execute_input": "2024-09-25T08:45:29.745369Z",
     "iopub.status.busy": "2024-09-25T08:45:29.745043Z",
     "iopub.status.idle": "2024-09-25T08:45:29.762370Z",
     "shell.execute_reply": "2024-09-25T08:45:29.761477Z"
    },
    "papermill": {
     "duration": 0.03399,
     "end_time": "2024-09-25T08:45:29.764383",
     "exception": false,
     "start_time": "2024-09-25T08:45:29.730393",
     "status": "completed"
    },
    "tags": []
   },
   "outputs": [
    {
     "data": {
      "text/html": [
       "<div>\n",
       "<style scoped>\n",
       "    .dataframe tbody tr th:only-of-type {\n",
       "        vertical-align: middle;\n",
       "    }\n",
       "\n",
       "    .dataframe tbody tr th {\n",
       "        vertical-align: top;\n",
       "    }\n",
       "\n",
       "    .dataframe thead th {\n",
       "        text-align: right;\n",
       "    }\n",
       "</style>\n",
       "<table border=\"1\" class=\"dataframe\">\n",
       "  <thead>\n",
       "    <tr style=\"text-align: right;\">\n",
       "      <th></th>\n",
       "      <th>study_id</th>\n",
       "      <th>series_id</th>\n",
       "      <th>series_description</th>\n",
       "    </tr>\n",
       "  </thead>\n",
       "  <tbody>\n",
       "    <tr>\n",
       "      <th>0</th>\n",
       "      <td>44036939</td>\n",
       "      <td>2828203845</td>\n",
       "      <td>Sagittal T1</td>\n",
       "    </tr>\n",
       "    <tr>\n",
       "      <th>1</th>\n",
       "      <td>44036939</td>\n",
       "      <td>3481971518</td>\n",
       "      <td>Axial T2</td>\n",
       "    </tr>\n",
       "    <tr>\n",
       "      <th>2</th>\n",
       "      <td>44036939</td>\n",
       "      <td>3844393089</td>\n",
       "      <td>Sagittal T2/STIR</td>\n",
       "    </tr>\n",
       "  </tbody>\n",
       "</table>\n",
       "</div>"
      ],
      "text/plain": [
       "   study_id   series_id series_description\n",
       "0  44036939  2828203845        Sagittal T1\n",
       "1  44036939  3481971518           Axial T2\n",
       "2  44036939  3844393089   Sagittal T2/STIR"
      ]
     },
     "execution_count": 38,
     "metadata": {},
     "output_type": "execute_result"
    }
   ],
   "source": [
    "df = pd.read_csv(f'{rd}/test_series_descriptions.csv')\n",
    "df.head()"
   ]
  },
  {
   "cell_type": "code",
   "execution_count": 39,
   "id": "ae029fba",
   "metadata": {
    "execution": {
     "iopub.execute_input": "2024-09-25T08:45:29.793756Z",
     "iopub.status.busy": "2024-09-25T08:45:29.793351Z",
     "iopub.status.idle": "2024-09-25T08:45:29.797944Z",
     "shell.execute_reply": "2024-09-25T08:45:29.797118Z"
    },
    "papermill": {
     "duration": 0.0215,
     "end_time": "2024-09-25T08:45:29.799865",
     "exception": false,
     "start_time": "2024-09-25T08:45:29.778365",
     "status": "completed"
    },
    "tags": []
   },
   "outputs": [],
   "source": [
    "study_ids = list(df['study_id'].unique())"
   ]
  },
  {
   "cell_type": "code",
   "execution_count": 40,
   "id": "14eb15da",
   "metadata": {
    "execution": {
     "iopub.execute_input": "2024-09-25T08:45:29.828917Z",
     "iopub.status.busy": "2024-09-25T08:45:29.828592Z",
     "iopub.status.idle": "2024-09-25T08:45:29.836584Z",
     "shell.execute_reply": "2024-09-25T08:45:29.835831Z"
    },
    "papermill": {
     "duration": 0.024799,
     "end_time": "2024-09-25T08:45:29.838518",
     "exception": false,
     "start_time": "2024-09-25T08:45:29.813719",
     "status": "completed"
    },
    "tags": []
   },
   "outputs": [],
   "source": [
    "sample_sub = pd.read_csv(f'{rd}/sample_submission.csv')"
   ]
  },
  {
   "cell_type": "code",
   "execution_count": 41,
   "id": "dd9e7754",
   "metadata": {
    "execution": {
     "iopub.execute_input": "2024-09-25T08:45:29.867478Z",
     "iopub.status.busy": "2024-09-25T08:45:29.867154Z",
     "iopub.status.idle": "2024-09-25T08:45:29.872998Z",
     "shell.execute_reply": "2024-09-25T08:45:29.872118Z"
    },
    "papermill": {
     "duration": 0.022565,
     "end_time": "2024-09-25T08:45:29.874954",
     "exception": false,
     "start_time": "2024-09-25T08:45:29.852389",
     "status": "completed"
    },
    "tags": []
   },
   "outputs": [
    {
     "data": {
      "text/plain": [
       "['normal_mild', 'moderate', 'severe']"
      ]
     },
     "execution_count": 41,
     "metadata": {},
     "output_type": "execute_result"
    }
   ],
   "source": [
    "LABELS = list(sample_sub.columns[1:])\n",
    "LABELS"
   ]
  },
  {
   "cell_type": "code",
   "execution_count": 42,
   "id": "283d4258",
   "metadata": {
    "execution": {
     "iopub.execute_input": "2024-09-25T08:45:29.904532Z",
     "iopub.status.busy": "2024-09-25T08:45:29.904117Z",
     "iopub.status.idle": "2024-09-25T08:45:29.908412Z",
     "shell.execute_reply": "2024-09-25T08:45:29.907682Z"
    },
    "papermill": {
     "duration": 0.021572,
     "end_time": "2024-09-25T08:45:29.910347",
     "exception": false,
     "start_time": "2024-09-25T08:45:29.888775",
     "status": "completed"
    },
    "tags": []
   },
   "outputs": [],
   "source": [
    "# CONDITIONS = [\n",
    "#     'spinal_canal_stenosis', \n",
    "#     'left_neural_foraminal_narrowing', \n",
    "#     'right_neural_foraminal_narrowing',\n",
    "#     'left_subarticular_stenosis',\n",
    "#     'right_subarticular_stenosis'\n",
    "# ]\n",
    "\n",
    "# LEVELS = [\n",
    "#     'l1_l2',\n",
    "#     'l2_l3',\n",
    "#     'l3_l4',\n",
    "#     'l4_l5',\n",
    "#     'l5_s1',\n",
    "# ]"
   ]
  },
  {
   "cell_type": "code",
   "execution_count": 43,
   "id": "210fe1a1",
   "metadata": {
    "execution": {
     "iopub.execute_input": "2024-09-25T08:45:29.940511Z",
     "iopub.status.busy": "2024-09-25T08:45:29.940136Z",
     "iopub.status.idle": "2024-09-25T08:45:29.960384Z",
     "shell.execute_reply": "2024-09-25T08:45:29.959311Z"
    },
    "papermill": {
     "duration": 0.038102,
     "end_time": "2024-09-25T08:45:29.962436",
     "exception": false,
     "start_time": "2024-09-25T08:45:29.924334",
     "status": "completed"
    },
    "tags": []
   },
   "outputs": [],
   "source": [
    "class RSNA24TestDataset(Dataset):\n",
    "    def __init__(self, df, study_ids, phase='test', transform=None):\n",
    "        self.df = df\n",
    "        self.study_ids = study_ids\n",
    "        self.transform = transform\n",
    "        self.phase = phase\n",
    "    \n",
    "    def __len__(self):\n",
    "        return len(self.study_ids)\n",
    "    \n",
    "    def get_img_paths(self, study_id, series_desc):\n",
    "        pdf = self.df[self.df['study_id']==study_id]\n",
    "        pdf_ = pdf[pdf['series_description']==series_desc]\n",
    "        allimgs = []\n",
    "        for i, row in pdf_.iterrows():\n",
    "            pimgs = glob.glob(f'{rd}/test_images/{study_id}/{row[\"series_id\"]}/*.dcm')\n",
    "            pimgs = sorted(pimgs, key=natural_keys)\n",
    "            allimgs.extend(pimgs)\n",
    "            \n",
    "        return allimgs\n",
    "    \n",
    "    def read_dcm_ret_arr(self, src_path):\n",
    "        dicom_data = pydicom.dcmread(src_path)\n",
    "        image = dicom_data.pixel_array\n",
    "        image = (image - image.min()) / (image.max() - image.min() + 1e-6) * 255\n",
    "        img = cv2.resize(image, (IMG_SIZE[0], IMG_SIZE[1]),interpolation=cv2.INTER_CUBIC)\n",
    "        assert img.shape==(IMG_SIZE[0], IMG_SIZE[1])\n",
    "        return img\n",
    "\n",
    "    def __getitem__(self, idx):\n",
    "        x = np.zeros((IMG_SIZE[0], IMG_SIZE[1], IN_CHANS), dtype=np.uint8)\n",
    "        st_id = self.study_ids[idx]        \n",
    "        \n",
    "        # Sagittal T1\n",
    "        allimgs_st1 = self.get_img_paths(st_id, 'Sagittal T1')\n",
    "        if len(allimgs_st1)==0:\n",
    "            print(st_id, ': Sagittal T1, has no images')\n",
    "        \n",
    "        else:\n",
    "            step = len(allimgs_st1) / 10.0\n",
    "            st = len(allimgs_st1)/2.0 - 4.0*step\n",
    "            end = len(allimgs_st1)+0.0001\n",
    "            for j, i in enumerate(np.arange(st, end, step)):\n",
    "                try:\n",
    "                    ind2 = max(0, int((i-0.5001).round()))\n",
    "                    img = self.read_dcm_ret_arr(allimgs_st1[ind2])\n",
    "                    x[..., j] = img.astype(np.uint8)\n",
    "                except:\n",
    "                    print(f'failed to load on {st_id}, Sagittal T1')\n",
    "                    pass\n",
    "            \n",
    "        # Sagittal T2/STIR\n",
    "        allimgs_st2 = self.get_img_paths(st_id, 'Sagittal T2/STIR')\n",
    "        if len(allimgs_st2)==0:\n",
    "            print(st_id, ': Sagittal T2/STIR, has no images')\n",
    "            \n",
    "        else:\n",
    "            step = len(allimgs_st2) / 10.0\n",
    "            st = len(allimgs_st2)/2.0 - 4.0*step\n",
    "            end = len(allimgs_st2)+0.0001\n",
    "            for j, i in enumerate(np.arange(st, end, step)):\n",
    "                try:\n",
    "                    ind2 = max(0, int((i-0.5001).round()))\n",
    "                    img = self.read_dcm_ret_arr(allimgs_st2[ind2])\n",
    "                    x[..., j+10] = img.astype(np.uint8)\n",
    "                except:\n",
    "                    print(f'failed to load on {st_id}, Sagittal T2/STIR')\n",
    "                    pass\n",
    "            \n",
    "        # Axial T2\n",
    "        allimgs_at2 = self.get_img_paths(st_id, 'Axial T2')\n",
    "        if len(allimgs_at2)==0:\n",
    "            print(st_id, ': Axial T2, has no images')\n",
    "            \n",
    "        else:\n",
    "            step = len(allimgs_at2) / 10.0\n",
    "            st = len(allimgs_at2)/2.0 - 4.0*step\n",
    "            end = len(allimgs_at2)+0.0001\n",
    "\n",
    "            for j, i in enumerate(np.arange(st, end, step)):\n",
    "                try:\n",
    "                    ind2 = max(0, int((i-0.5001).round()))\n",
    "                    img = self.read_dcm_ret_arr(allimgs_at2[ind2])\n",
    "                    x[..., j+20] = img.astype(np.uint8)\n",
    "                except:\n",
    "                    print(f'failed to load on {st_id}, Axial T2')\n",
    "                    pass  \n",
    "            \n",
    "            \n",
    "        if self.transform is not None:\n",
    "            x = self.transform(image=x)['image']\n",
    "\n",
    "        x = x.transpose(2, 0, 1)\n",
    "                \n",
    "        return x, str(st_id)"
   ]
  },
  {
   "cell_type": "code",
   "execution_count": 44,
   "id": "f73f7aaf",
   "metadata": {
    "execution": {
     "iopub.execute_input": "2024-09-25T08:45:29.992507Z",
     "iopub.status.busy": "2024-09-25T08:45:29.992118Z",
     "iopub.status.idle": "2024-09-25T08:45:29.997687Z",
     "shell.execute_reply": "2024-09-25T08:45:29.996802Z"
    },
    "papermill": {
     "duration": 0.022621,
     "end_time": "2024-09-25T08:45:29.999470",
     "exception": false,
     "start_time": "2024-09-25T08:45:29.976849",
     "status": "completed"
    },
    "tags": []
   },
   "outputs": [],
   "source": [
    "transforms_test = A.Compose([\n",
    "    A.Resize(IMG_SIZE[0], IMG_SIZE[1]),\n",
    "    A.Normalize(mean=0.5, std=0.5)\n",
    "])"
   ]
  },
  {
   "cell_type": "code",
   "execution_count": 45,
   "id": "4d1c6c9c",
   "metadata": {
    "execution": {
     "iopub.execute_input": "2024-09-25T08:45:30.029066Z",
     "iopub.status.busy": "2024-09-25T08:45:30.028734Z",
     "iopub.status.idle": "2024-09-25T08:45:30.033810Z",
     "shell.execute_reply": "2024-09-25T08:45:30.032923Z"
    },
    "papermill": {
     "duration": 0.022282,
     "end_time": "2024-09-25T08:45:30.035811",
     "exception": false,
     "start_time": "2024-09-25T08:45:30.013529",
     "status": "completed"
    },
    "tags": []
   },
   "outputs": [],
   "source": [
    "test_ds = RSNA24TestDataset(df, study_ids, transform=transforms_test)\n",
    "test_dl = DataLoader(\n",
    "    test_ds, \n",
    "    batch_size=1, \n",
    "    shuffle=False,\n",
    "    num_workers=N_WORKERS,\n",
    "    pin_memory=True,\n",
    "    drop_last=False\n",
    ")"
   ]
  },
  {
   "cell_type": "code",
   "execution_count": 46,
   "id": "7fc089e8",
   "metadata": {
    "execution": {
     "iopub.execute_input": "2024-09-25T08:45:30.065352Z",
     "iopub.status.busy": "2024-09-25T08:45:30.065018Z",
     "iopub.status.idle": "2024-09-25T08:45:30.069291Z",
     "shell.execute_reply": "2024-09-25T08:45:30.068507Z"
    },
    "papermill": {
     "duration": 0.021515,
     "end_time": "2024-09-25T08:45:30.071252",
     "exception": false,
     "start_time": "2024-09-25T08:45:30.049737",
     "status": "completed"
    },
    "tags": []
   },
   "outputs": [],
   "source": [
    "# class RSNA24Model(nn.Module):\n",
    "#     def __init__(self, model_name, in_c=30, n_classes=75, pretrained=True, features_only=False):\n",
    "#         super().__init__()\n",
    "#         self.model = timm.create_model(\n",
    "#                                     model_name,\n",
    "#                                     pretrained=pretrained, \n",
    "#                                     features_only=features_only,\n",
    "#                                     in_chans=in_c,\n",
    "#                                     num_classes=n_classes,\n",
    "#                                     global_pool='avg'\n",
    "#                                     )\n",
    "    \n",
    "#     def forward(self, x):\n",
    "#         y = self.model(x)\n",
    "#         return y"
   ]
  },
  {
   "cell_type": "code",
   "execution_count": 47,
   "id": "ed201312",
   "metadata": {
    "execution": {
     "iopub.execute_input": "2024-09-25T08:45:30.100696Z",
     "iopub.status.busy": "2024-09-25T08:45:30.100365Z",
     "iopub.status.idle": "2024-09-25T08:45:30.104298Z",
     "shell.execute_reply": "2024-09-25T08:45:30.103469Z"
    },
    "papermill": {
     "duration": 0.021358,
     "end_time": "2024-09-25T08:45:30.106788",
     "exception": false,
     "start_time": "2024-09-25T08:45:30.085430",
     "status": "completed"
    },
    "tags": []
   },
   "outputs": [],
   "source": [
    "models = []"
   ]
  },
  {
   "cell_type": "code",
   "execution_count": 48,
   "id": "e37315ae",
   "metadata": {
    "execution": {
     "iopub.execute_input": "2024-09-25T08:45:30.136270Z",
     "iopub.status.busy": "2024-09-25T08:45:30.135945Z",
     "iopub.status.idle": "2024-09-25T08:45:30.141705Z",
     "shell.execute_reply": "2024-09-25T08:45:30.140969Z"
    },
    "papermill": {
     "duration": 0.022462,
     "end_time": "2024-09-25T08:45:30.143521",
     "exception": false,
     "start_time": "2024-09-25T08:45:30.121059",
     "status": "completed"
    },
    "tags": []
   },
   "outputs": [],
   "source": [
    "CKPT_PATHS = glob.glob('/kaggle/input/test/pytorch/default/2/best_wll_model_fold-*.pt')\n",
    "CKPT_PATHS = sorted(CKPT_PATHS)"
   ]
  },
  {
   "cell_type": "code",
   "execution_count": 49,
   "id": "ff9c3c3f",
   "metadata": {
    "execution": {
     "iopub.execute_input": "2024-09-25T08:45:30.172801Z",
     "iopub.status.busy": "2024-09-25T08:45:30.172487Z",
     "iopub.status.idle": "2024-09-25T08:45:34.320153Z",
     "shell.execute_reply": "2024-09-25T08:45:34.319146Z"
    },
    "papermill": {
     "duration": 4.165037,
     "end_time": "2024-09-25T08:45:34.322591",
     "exception": false,
     "start_time": "2024-09-25T08:45:30.157554",
     "status": "completed"
    },
    "tags": []
   },
   "outputs": [
    {
     "name": "stdout",
     "output_type": "stream",
     "text": [
      "loading /kaggle/input/test/pytorch/default/2/best_wll_model_fold-0.pt...\n"
     ]
    },
    {
     "name": "stderr",
     "output_type": "stream",
     "text": [
      "/tmp/ipykernel_24/1182973946.py:4: FutureWarning: You are using `torch.load` with `weights_only=False` (the current default value), which uses the default pickle module implicitly. It is possible to construct malicious pickle data which will execute arbitrary code during unpickling (See https://github.com/pytorch/pytorch/blob/main/SECURITY.md#untrusted-models for more details). In a future release, the default value for `weights_only` will be flipped to `True`. This limits the functions that could be executed during unpickling. Arbitrary objects will no longer be allowed to be loaded via this mode unless they are explicitly allowlisted by the user via `torch.serialization.add_safe_globals`. We recommend you start setting `weights_only=True` for any use case where you don't have full control of the loaded file. Please open an issue on GitHub for any issues related to this experimental feature.\n",
      "  model.load_state_dict(torch.load(cp))\n"
     ]
    },
    {
     "name": "stdout",
     "output_type": "stream",
     "text": [
      "loading /kaggle/input/test/pytorch/default/2/best_wll_model_fold-1.pt...\n",
      "loading /kaggle/input/test/pytorch/default/2/best_wll_model_fold-2.pt...\n",
      "loading /kaggle/input/test/pytorch/default/2/best_wll_model_fold-3.pt...\n",
      "loading /kaggle/input/test/pytorch/default/2/best_wll_model_fold-4.pt...\n"
     ]
    }
   ],
   "source": [
    "for i, cp in enumerate(CKPT_PATHS):\n",
    "    print(f'loading {cp}...')\n",
    "    model = RSNA24Model(MODEL_NAME, IN_CHANS, N_CLASSES, pretrained=False)\n",
    "    model.load_state_dict(torch.load(cp))\n",
    "    model.eval()\n",
    "    model.half()\n",
    "    model.to(device)\n",
    "    models.append(model)"
   ]
  },
  {
   "cell_type": "code",
   "execution_count": 50,
   "id": "12db73a5",
   "metadata": {
    "execution": {
     "iopub.execute_input": "2024-09-25T08:45:34.355262Z",
     "iopub.status.busy": "2024-09-25T08:45:34.354252Z",
     "iopub.status.idle": "2024-09-25T08:45:36.558073Z",
     "shell.execute_reply": "2024-09-25T08:45:36.556805Z"
    },
    "papermill": {
     "duration": 2.222331,
     "end_time": "2024-09-25T08:45:36.560095",
     "exception": false,
     "start_time": "2024-09-25T08:45:34.337764",
     "status": "completed"
    },
    "tags": []
   },
   "outputs": [
    {
     "name": "stderr",
     "output_type": "stream",
     "text": [
      "/tmp/ipykernel_24/1318220155.py:1: FutureWarning: `torch.cuda.amp.autocast(args...)` is deprecated. Please use `torch.amp.autocast('cuda', args...)` instead.\n",
      "  autocast = torch.cuda.amp.autocast(enabled=USE_AMP, dtype=torch.half)\n",
      "100%|██████████| 1/1 [00:02<00:00,  2.19s/it]\n"
     ]
    }
   ],
   "source": [
    "autocast = torch.cuda.amp.autocast(enabled=USE_AMP, dtype=torch.half)\n",
    "y_preds = []\n",
    "row_names = []\n",
    "\n",
    "with tqdm(test_dl, leave=True) as pbar:\n",
    "    with torch.no_grad():\n",
    "        for idx, (x, si) in enumerate(pbar):\n",
    "            x = x.to(device)\n",
    "            pred_per_study = np.zeros((25, 3))\n",
    "            \n",
    "            for cond in CONDITIONS:\n",
    "                for level in LEVELS:\n",
    "                    row_names.append(si[0] + '_' + cond + '_' + level)\n",
    "            \n",
    "            with autocast:\n",
    "                for m in models:\n",
    "                    y = m(x)[0]\n",
    "                    for col in range(N_LABELS):\n",
    "                        pred = y[col*3:col*3+3]\n",
    "                        y_pred = pred.float().softmax(0).cpu().numpy()\n",
    "                        pred_per_study[col] += y_pred / len(models)\n",
    "                y_preds.append(pred_per_study)\n",
    "\n",
    "y_preds = np.concatenate(y_preds, axis=0)"
   ]
  },
  {
   "cell_type": "code",
   "execution_count": 51,
   "id": "05c3c192",
   "metadata": {
    "execution": {
     "iopub.execute_input": "2024-09-25T08:45:36.592554Z",
     "iopub.status.busy": "2024-09-25T08:45:36.592136Z",
     "iopub.status.idle": "2024-09-25T08:45:36.615275Z",
     "shell.execute_reply": "2024-09-25T08:45:36.614308Z"
    },
    "papermill": {
     "duration": 0.041746,
     "end_time": "2024-09-25T08:45:36.617294",
     "exception": false,
     "start_time": "2024-09-25T08:45:36.575548",
     "status": "completed"
    },
    "tags": []
   },
   "outputs": [
    {
     "data": {
      "text/html": [
       "<div>\n",
       "<style scoped>\n",
       "    .dataframe tbody tr th:only-of-type {\n",
       "        vertical-align: middle;\n",
       "    }\n",
       "\n",
       "    .dataframe tbody tr th {\n",
       "        vertical-align: top;\n",
       "    }\n",
       "\n",
       "    .dataframe thead th {\n",
       "        text-align: right;\n",
       "    }\n",
       "</style>\n",
       "<table border=\"1\" class=\"dataframe\">\n",
       "  <thead>\n",
       "    <tr style=\"text-align: right;\">\n",
       "      <th></th>\n",
       "      <th>row_id</th>\n",
       "      <th>normal_mild</th>\n",
       "      <th>moderate</th>\n",
       "      <th>severe</th>\n",
       "    </tr>\n",
       "  </thead>\n",
       "  <tbody>\n",
       "    <tr>\n",
       "      <th>0</th>\n",
       "      <td>44036939_Spinal Canal Stenosis_L1/L2</td>\n",
       "      <td>0.575941</td>\n",
       "      <td>0.286909</td>\n",
       "      <td>0.137150</td>\n",
       "    </tr>\n",
       "    <tr>\n",
       "      <th>1</th>\n",
       "      <td>44036939_Spinal Canal Stenosis_L2/L3</td>\n",
       "      <td>0.278065</td>\n",
       "      <td>0.387061</td>\n",
       "      <td>0.334874</td>\n",
       "    </tr>\n",
       "    <tr>\n",
       "      <th>2</th>\n",
       "      <td>44036939_Spinal Canal Stenosis_L3/L4</td>\n",
       "      <td>0.173202</td>\n",
       "      <td>0.317942</td>\n",
       "      <td>0.508856</td>\n",
       "    </tr>\n",
       "    <tr>\n",
       "      <th>3</th>\n",
       "      <td>44036939_Spinal Canal Stenosis_L4/L5</td>\n",
       "      <td>0.252347</td>\n",
       "      <td>0.190865</td>\n",
       "      <td>0.556788</td>\n",
       "    </tr>\n",
       "    <tr>\n",
       "      <th>4</th>\n",
       "      <td>44036939_Spinal Canal Stenosis_L5/S1</td>\n",
       "      <td>0.828362</td>\n",
       "      <td>0.084823</td>\n",
       "      <td>0.086815</td>\n",
       "    </tr>\n",
       "    <tr>\n",
       "      <th>5</th>\n",
       "      <td>44036939_Left Neural Foraminal Narrowing_L1/L2</td>\n",
       "      <td>0.671752</td>\n",
       "      <td>0.298019</td>\n",
       "      <td>0.030229</td>\n",
       "    </tr>\n",
       "    <tr>\n",
       "      <th>6</th>\n",
       "      <td>44036939_Left Neural Foraminal Narrowing_L2/L3</td>\n",
       "      <td>0.361944</td>\n",
       "      <td>0.551196</td>\n",
       "      <td>0.086861</td>\n",
       "    </tr>\n",
       "    <tr>\n",
       "      <th>7</th>\n",
       "      <td>44036939_Left Neural Foraminal Narrowing_L3/L4</td>\n",
       "      <td>0.288582</td>\n",
       "      <td>0.494857</td>\n",
       "      <td>0.216561</td>\n",
       "    </tr>\n",
       "    <tr>\n",
       "      <th>8</th>\n",
       "      <td>44036939_Left Neural Foraminal Narrowing_L4/L5</td>\n",
       "      <td>0.129308</td>\n",
       "      <td>0.502899</td>\n",
       "      <td>0.367793</td>\n",
       "    </tr>\n",
       "    <tr>\n",
       "      <th>9</th>\n",
       "      <td>44036939_Left Neural Foraminal Narrowing_L5/S1</td>\n",
       "      <td>0.161376</td>\n",
       "      <td>0.359462</td>\n",
       "      <td>0.479162</td>\n",
       "    </tr>\n",
       "    <tr>\n",
       "      <th>10</th>\n",
       "      <td>44036939_Right Neural Foraminal Narrowing_L1/L2</td>\n",
       "      <td>0.623023</td>\n",
       "      <td>0.281813</td>\n",
       "      <td>0.095163</td>\n",
       "    </tr>\n",
       "    <tr>\n",
       "      <th>11</th>\n",
       "      <td>44036939_Right Neural Foraminal Narrowing_L2/L3</td>\n",
       "      <td>0.495698</td>\n",
       "      <td>0.457525</td>\n",
       "      <td>0.046777</td>\n",
       "    </tr>\n",
       "    <tr>\n",
       "      <th>12</th>\n",
       "      <td>44036939_Right Neural Foraminal Narrowing_L3/L4</td>\n",
       "      <td>0.205692</td>\n",
       "      <td>0.595904</td>\n",
       "      <td>0.198404</td>\n",
       "    </tr>\n",
       "    <tr>\n",
       "      <th>13</th>\n",
       "      <td>44036939_Right Neural Foraminal Narrowing_L4/L5</td>\n",
       "      <td>0.159058</td>\n",
       "      <td>0.469967</td>\n",
       "      <td>0.370975</td>\n",
       "    </tr>\n",
       "    <tr>\n",
       "      <th>14</th>\n",
       "      <td>44036939_Right Neural Foraminal Narrowing_L5/S1</td>\n",
       "      <td>0.225887</td>\n",
       "      <td>0.324499</td>\n",
       "      <td>0.449614</td>\n",
       "    </tr>\n",
       "    <tr>\n",
       "      <th>15</th>\n",
       "      <td>44036939_Left Subarticular Stenosis_L1/L2</td>\n",
       "      <td>0.334258</td>\n",
       "      <td>0.403089</td>\n",
       "      <td>0.262652</td>\n",
       "    </tr>\n",
       "    <tr>\n",
       "      <th>16</th>\n",
       "      <td>44036939_Left Subarticular Stenosis_L2/L3</td>\n",
       "      <td>0.188135</td>\n",
       "      <td>0.351456</td>\n",
       "      <td>0.460408</td>\n",
       "    </tr>\n",
       "    <tr>\n",
       "      <th>17</th>\n",
       "      <td>44036939_Left Subarticular Stenosis_L3/L4</td>\n",
       "      <td>0.095124</td>\n",
       "      <td>0.320211</td>\n",
       "      <td>0.584665</td>\n",
       "    </tr>\n",
       "    <tr>\n",
       "      <th>18</th>\n",
       "      <td>44036939_Left Subarticular Stenosis_L4/L5</td>\n",
       "      <td>0.064884</td>\n",
       "      <td>0.273571</td>\n",
       "      <td>0.661545</td>\n",
       "    </tr>\n",
       "    <tr>\n",
       "      <th>19</th>\n",
       "      <td>44036939_Left Subarticular Stenosis_L5/S1</td>\n",
       "      <td>0.264752</td>\n",
       "      <td>0.366124</td>\n",
       "      <td>0.369124</td>\n",
       "    </tr>\n",
       "    <tr>\n",
       "      <th>20</th>\n",
       "      <td>44036939_Right Subarticular Stenosis_L1/L2</td>\n",
       "      <td>0.440627</td>\n",
       "      <td>0.383644</td>\n",
       "      <td>0.175730</td>\n",
       "    </tr>\n",
       "    <tr>\n",
       "      <th>21</th>\n",
       "      <td>44036939_Right Subarticular Stenosis_L2/L3</td>\n",
       "      <td>0.185415</td>\n",
       "      <td>0.457821</td>\n",
       "      <td>0.356764</td>\n",
       "    </tr>\n",
       "    <tr>\n",
       "      <th>22</th>\n",
       "      <td>44036939_Right Subarticular Stenosis_L3/L4</td>\n",
       "      <td>0.107314</td>\n",
       "      <td>0.315091</td>\n",
       "      <td>0.577595</td>\n",
       "    </tr>\n",
       "    <tr>\n",
       "      <th>23</th>\n",
       "      <td>44036939_Right Subarticular Stenosis_L4/L5</td>\n",
       "      <td>0.075483</td>\n",
       "      <td>0.292724</td>\n",
       "      <td>0.631793</td>\n",
       "    </tr>\n",
       "    <tr>\n",
       "      <th>24</th>\n",
       "      <td>44036939_Right Subarticular Stenosis_L5/S1</td>\n",
       "      <td>0.291466</td>\n",
       "      <td>0.347852</td>\n",
       "      <td>0.360682</td>\n",
       "    </tr>\n",
       "  </tbody>\n",
       "</table>\n",
       "</div>"
      ],
      "text/plain": [
       "                                             row_id  normal_mild  moderate  \\\n",
       "0              44036939_Spinal Canal Stenosis_L1/L2     0.575941  0.286909   \n",
       "1              44036939_Spinal Canal Stenosis_L2/L3     0.278065  0.387061   \n",
       "2              44036939_Spinal Canal Stenosis_L3/L4     0.173202  0.317942   \n",
       "3              44036939_Spinal Canal Stenosis_L4/L5     0.252347  0.190865   \n",
       "4              44036939_Spinal Canal Stenosis_L5/S1     0.828362  0.084823   \n",
       "5    44036939_Left Neural Foraminal Narrowing_L1/L2     0.671752  0.298019   \n",
       "6    44036939_Left Neural Foraminal Narrowing_L2/L3     0.361944  0.551196   \n",
       "7    44036939_Left Neural Foraminal Narrowing_L3/L4     0.288582  0.494857   \n",
       "8    44036939_Left Neural Foraminal Narrowing_L4/L5     0.129308  0.502899   \n",
       "9    44036939_Left Neural Foraminal Narrowing_L5/S1     0.161376  0.359462   \n",
       "10  44036939_Right Neural Foraminal Narrowing_L1/L2     0.623023  0.281813   \n",
       "11  44036939_Right Neural Foraminal Narrowing_L2/L3     0.495698  0.457525   \n",
       "12  44036939_Right Neural Foraminal Narrowing_L3/L4     0.205692  0.595904   \n",
       "13  44036939_Right Neural Foraminal Narrowing_L4/L5     0.159058  0.469967   \n",
       "14  44036939_Right Neural Foraminal Narrowing_L5/S1     0.225887  0.324499   \n",
       "15        44036939_Left Subarticular Stenosis_L1/L2     0.334258  0.403089   \n",
       "16        44036939_Left Subarticular Stenosis_L2/L3     0.188135  0.351456   \n",
       "17        44036939_Left Subarticular Stenosis_L3/L4     0.095124  0.320211   \n",
       "18        44036939_Left Subarticular Stenosis_L4/L5     0.064884  0.273571   \n",
       "19        44036939_Left Subarticular Stenosis_L5/S1     0.264752  0.366124   \n",
       "20       44036939_Right Subarticular Stenosis_L1/L2     0.440627  0.383644   \n",
       "21       44036939_Right Subarticular Stenosis_L2/L3     0.185415  0.457821   \n",
       "22       44036939_Right Subarticular Stenosis_L3/L4     0.107314  0.315091   \n",
       "23       44036939_Right Subarticular Stenosis_L4/L5     0.075483  0.292724   \n",
       "24       44036939_Right Subarticular Stenosis_L5/S1     0.291466  0.347852   \n",
       "\n",
       "      severe  \n",
       "0   0.137150  \n",
       "1   0.334874  \n",
       "2   0.508856  \n",
       "3   0.556788  \n",
       "4   0.086815  \n",
       "5   0.030229  \n",
       "6   0.086861  \n",
       "7   0.216561  \n",
       "8   0.367793  \n",
       "9   0.479162  \n",
       "10  0.095163  \n",
       "11  0.046777  \n",
       "12  0.198404  \n",
       "13  0.370975  \n",
       "14  0.449614  \n",
       "15  0.262652  \n",
       "16  0.460408  \n",
       "17  0.584665  \n",
       "18  0.661545  \n",
       "19  0.369124  \n",
       "20  0.175730  \n",
       "21  0.356764  \n",
       "22  0.577595  \n",
       "23  0.631793  \n",
       "24  0.360682  "
      ]
     },
     "execution_count": 51,
     "metadata": {},
     "output_type": "execute_result"
    }
   ],
   "source": [
    "sub = pd.DataFrame()\n",
    "sub['row_id'] = row_names\n",
    "sub[LABELS] = y_preds\n",
    "sub.head(25)"
   ]
  },
  {
   "cell_type": "code",
   "execution_count": 52,
   "id": "8ec6a7cd",
   "metadata": {
    "execution": {
     "iopub.execute_input": "2024-09-25T08:45:36.649959Z",
     "iopub.status.busy": "2024-09-25T08:45:36.649367Z",
     "iopub.status.idle": "2024-09-25T08:45:36.658037Z",
     "shell.execute_reply": "2024-09-25T08:45:36.657342Z"
    },
    "papermill": {
     "duration": 0.026971,
     "end_time": "2024-09-25T08:45:36.659823",
     "exception": false,
     "start_time": "2024-09-25T08:45:36.632852",
     "status": "completed"
    },
    "tags": []
   },
   "outputs": [],
   "source": [
    "sub.to_csv('submission.csv', index=False)"
   ]
  }
 ],
 "metadata": {
  "kaggle": {
   "accelerator": "gpu",
   "dataSources": [
    {
     "databundleVersionId": 8561470,
     "sourceId": 71549,
     "sourceType": "competition"
    },
    {
     "modelId": 125198,
     "modelInstanceId": 101025,
     "sourceId": 120111,
     "sourceType": "modelInstanceVersion"
    },
    {
     "modelId": 125198,
     "modelInstanceId": 101025,
     "sourceId": 120114,
     "sourceType": "modelInstanceVersion"
    }
   ],
   "dockerImageVersionId": 30761,
   "isGpuEnabled": true,
   "isInternetEnabled": false,
   "language": "python",
   "sourceType": "notebook"
  },
  "kernelspec": {
   "display_name": "Python 3",
   "language": "python",
   "name": "python3"
  },
  "language_info": {
   "codemirror_mode": {
    "name": "ipython",
    "version": 3
   },
   "file_extension": ".py",
   "mimetype": "text/x-python",
   "name": "python",
   "nbconvert_exporter": "python",
   "pygments_lexer": "ipython3",
   "version": "3.10.14"
  },
  "papermill": {
   "default_parameters": {},
   "duration": 43.804561,
   "end_time": "2024-09-25T08:45:39.536954",
   "environment_variables": {},
   "exception": null,
   "input_path": "__notebook__.ipynb",
   "output_path": "__notebook__.ipynb",
   "parameters": {},
   "start_time": "2024-09-25T08:44:55.732393",
   "version": "2.6.0"
  }
 },
 "nbformat": 4,
 "nbformat_minor": 5
}
